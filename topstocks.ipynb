{
 "metadata": {
  "language_info": {
   "codemirror_mode": {
    "name": "ipython",
    "version": 3
   },
   "file_extension": ".py",
   "mimetype": "text/x-python",
   "name": "python",
   "nbconvert_exporter": "python",
   "pygments_lexer": "ipython3",
   "version": "3.7.9"
  },
  "orig_nbformat": 2,
  "kernelspec": {
   "name": "cs5014",
   "display_name": "cs5014",
   "language": "python"
  }
 },
 "nbformat": 4,
 "nbformat_minor": 2,
 "cells": [
  {
   "cell_type": "code",
   "execution_count": 55,
   "source": [
    "import datetime\r\n",
    "from os import link\r\n",
    "from pandas.core.frame import DataFrame\r\n",
    "import requests\r\n",
    "import bs4\r\n",
    "from datetime import date\r\n",
    "import pandas as pd\r\n",
    "import math\r\n",
    "import csv"
   ],
   "outputs": [],
   "metadata": {}
  },
  {
   "cell_type": "code",
   "execution_count": 56,
   "source": [
    "link = \"https://money.rediff.com/companies/market-capitalisation\"\r\n",
    "dayres = requests.get(link)\r\n",
    "daysoup1 = bs4.BeautifulSoup(dayres.text, 'html.parser')"
   ],
   "outputs": [],
   "metadata": {}
  },
  {
   "cell_type": "code",
   "execution_count": 149,
   "source": [
    "tag = daysoup1.findAll('table', attrs={'class': 'dataTable'})\r\n",
    "tag1 = tag[0].findAll('tbody')\r\n",
    "# print(tag1[0])\r\n",
    "tag2 = tag1[0].findAll('tr')\r\n",
    "fields = ['Company', 'Current-Price', 'Change%', 'Volume','Equity','Face-Value','Market-Cap(Cr)']\r\n",
    "topL = []\r\n",
    "for i in tag2:\r\n",
    "    topL.append([j.getText().replace('\\n',\"\").replace('\\t',\"\").strip() for j in i.select('td')])"
   ],
   "outputs": [],
   "metadata": {
    "tags": []
   }
  },
  {
   "cell_type": "code",
   "execution_count": 151,
   "source": [
    "with open('topL.csv', 'w') as f:\r\n",
    "    write = csv.writer(f)\r\n",
    "    write.writerow(fields)\r\n",
    "    write.writerows(topL)"
   ],
   "outputs": [],
   "metadata": {}
  }
 ]
}
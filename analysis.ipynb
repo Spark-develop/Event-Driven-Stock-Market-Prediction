{
 "metadata": {
  "language_info": {
   "codemirror_mode": {
    "name": "ipython",
    "version": 3
   },
   "file_extension": ".py",
   "mimetype": "text/x-python",
   "name": "python",
   "nbconvert_exporter": "python",
   "pygments_lexer": "ipython3",
   "version": "3.9.5"
  },
  "orig_nbformat": 2,
  "kernelspec": {
   "name": "cs5014",
   "display_name": "cs5014",
   "language": "python"
  }
 },
 "nbformat": 4,
 "nbformat_minor": 2,
 "cells": [
  {
   "cell_type": "code",
   "execution_count": 1,
   "metadata": {},
   "outputs": [],
   "source": [
    "import tweepy\n",
    "from textblob import TextBlob\n",
    "import nltk\n",
    "from nltk.stem import WordNetLemmatizer\n",
    "import webbrowser\n",
    "import pandas as pd\n",
    "import numpy as np\n",
    "import re\n",
    "import matplotlib.pyplot as plt\n",
    "plt.style.use('fivethirtyeight')"
   ]
  },
  {
   "cell_type": "code",
   "execution_count": 2,
   "metadata": {},
   "outputs": [],
   "source": [
    "log = pd.read_csv(\"login.csv\")\n",
    "apiKey = log.value[3]\n",
    "apiKeySecret = log.value[4]\n",
    "accessToken = log.value[0]\n",
    "accessTokenSecret = log.value[2]\n",
    "callback_uri= 'oob'\n",
    "auth = tweepy.OAuthHandler(apiKey,apiKeySecret,callback=callback_uri)\n",
    "redirect_url = auth.get_authorization_url()\n",
    "webbrowser.open(redirect_url)\n",
    "user_input_input = input('pin value is -')\n",
    "auth.get_access_token(user_input_input)\n",
    "api = tweepy.API(auth)"
   ]
  },
  {
   "cell_type": "code",
   "execution_count": 3,
   "metadata": {},
   "outputs": [],
   "source": [
    "topL = pd.read_csv(\"topL.csv\")\n",
    "topList=[]\n",
    "for k in topL['Company']:\n",
    "    if(len(k)==1):\n",
    "        topList.append(k)\n",
    "    else:\n",
    "        topList.append(k.split()[0])"
   ]
  },
  {
   "cell_type": "code",
   "execution_count": 4,
   "metadata": {},
   "outputs": [],
   "source": [
    "def cleanTxt(text):\n",
    "    emoji_pattern = re.compile(\"[\"\n",
    "                               u\"\\U0001F600-\\U0001F64F\"  # emoticons\n",
    "                               u\"\\U0001F300-\\U0001F5FF\"  # symbols & pictographs\n",
    "                               u\"\\U0001F680-\\U0001F6FF\"  # transport & map symbols\n",
    "                               u\"\\U0001F1E0-\\U0001F1FF\"  # flags (iOS)\n",
    "                               u\"\\U00002500-\\U00002BEF\"  # chinese char\n",
    "                               u\"\\U00002702-\\U000027B0\"\n",
    "                               u\"\\U00002702-\\U000027B0\"\n",
    "                               u\"\\U000024C2-\\U0001F251\"\n",
    "                               u\"\\U0001f926-\\U0001f937\"\n",
    "                               u\"\\U00010000-\\U0010ffff\"\n",
    "                               u'\\u0119'\n",
    "                               u'\\u011f-\\u999f'\n",
    "                               u\"\\u2640-\\u2642\"\n",
    "                               u\"\\u2600-\\u2B55\"\n",
    "                               u\"\\u200d\"\n",
    "                               u\"\\u23cf\"\n",
    "                               u\"\\u23e9\"\n",
    "                               u\"\\u231a\"\n",
    "                               u\"\\ufe0f\"  # dingbats\n",
    "                               u\"\\u3030\"\n",
    "                               u'\\u200b-\\u900b'\n",
    "                               u'\\u0105'\n",
    "                               \"]+\", flags=re.UNICODE)\n",
    "    text = emoji_pattern.sub(r'',text)\n",
    "    text = re.sub('@[A-Za-z0–9]+', '', text) #Removing @mentions\n",
    "    text = re.sub('#', '', text) # Removing '#' hash tag\n",
    "    text = re.sub('RT[\\s]+', '', text) # Removing RT\n",
    "    text = re.sub('https?:\\/\\/\\S+', '', text) # Removing hyperlink\n",
    "\n",
    "    return text\n",
    "en_stop = set(nltk.corpus.stopwords.words('english'))\n",
    "stemmer = WordNetLemmatizer() \n",
    "def pre_processing_text(doc):\n",
    "    doc = re.sub(r'\\W', ' ', str(doc))\n",
    "    doc = re.sub(r'\\s+[a-zA-Z]\\s+', ' ', str(doc))\n",
    "    doc = re.sub(r'\\^[a-zA-Z]\\s+', ' ', str(doc))\n",
    "    doc = re.sub(r'\\s+', ' ', str(doc), flags=re.I)\n",
    "    doc = re.sub(r'^b\\s+', '', str(doc))\n",
    "    doc = doc.lower()\n",
    "    tokens = doc.split()\n",
    "    token = [stemmer.lemmatize(word=word) for word in tokens]\n",
    "    token = [word for word in token if word not in en_stop]\n",
    "    token = [word for word in token if len(word)>3]\n",
    "\n",
    "    preprocess_text = ' '.join(tokens)\n",
    "    return preprocess_text"
   ]
  },
  {
   "cell_type": "code",
   "execution_count": 5,
   "metadata": {},
   "outputs": [],
   "source": [
    "df = pd.DataFrame(columns=['Tweets','Company'])"
   ]
  },
  {
   "cell_type": "code",
   "execution_count": 6,
   "metadata": {},
   "outputs": [],
   "source": [
    "for company in topList:\n",
    "    try:\n",
    "        posts = api.user_timeline(screen_name=company, count =4000, lang =\"en\", tweet_mode=\"extended\") \n",
    "        for eve in posts:\n",
    "            df = df.append({\"Company\":company,\"Tweets\":pre_processing_text(cleanTxt(eve.full_text))},ignore_index=True)\n",
    "    except Exception:\n",
    "        pass"
   ]
  },
  {
   "cell_type": "code",
   "execution_count": 7,
   "metadata": {},
   "outputs": [],
   "source": [
    "def getSubjectivity(text):\n",
    "   return TextBlob(text).sentiment.subjectivity\n",
    "\n",
    "def getPolarity(text):\n",
    "   return  TextBlob(text).sentiment.polarity\n",
    "\n",
    "df['Subjectivity'] = df['Tweets'].apply(getSubjectivity)\n",
    "df['Polarity'] = df['Tweets'].apply(getPolarity)"
   ]
  },
  {
   "cell_type": "code",
   "execution_count": 8,
   "metadata": {},
   "outputs": [],
   "source": [
    "def getAnalysis(score):\n",
    "    if score < 0:\n",
    "        return 'Negative'\n",
    "    elif score == 0:\n",
    "        return 'Neutral'\n",
    "    else:\n",
    "        return 'Positive'\n",
    "df['Analysis'] = df['Polarity'].apply(getAnalysis)"
   ]
  },
  {
   "cell_type": "code",
   "execution_count": 9,
   "metadata": {},
   "outputs": [],
   "source": [
    "df.to_pickle('Data/final_df')"
   ]
  },
  {
   "cell_type": "code",
   "execution_count": 10,
   "metadata": {},
   "outputs": [],
   "source": [
    "df2 = pd.DataFrame(columns=['News','Company'])"
   ]
  },
  {
   "cell_type": "code",
   "execution_count": 11,
   "metadata": {
    "tags": []
   },
   "outputs": [],
   "source": [
    "with open('Data/valid.txt', 'r',encoding=\"utf-8\") as f: \n",
    "    for ln in f.readlines():\n",
    "        df2 = df2.append({\"Company\":ln.split()[3],\"News\":pre_processing_text(cleanTxt(ln[23:]))},ignore_index=True)"
   ]
  },
  {
   "cell_type": "code",
   "execution_count": 12,
   "metadata": {},
   "outputs": [],
   "source": [
    "def getSubjectivity(text):\n",
    "   return TextBlob(text).sentiment.subjectivity\n",
    "\n",
    "def getPolarity(text):\n",
    "   return  TextBlob(text).sentiment.polarity\n",
    "\n",
    "df2['Subjectivity'] = df2['News'].apply(getSubjectivity)\n",
    "df2['Polarity'] = df2['News'].apply(getPolarity)"
   ]
  },
  {
   "cell_type": "code",
   "execution_count": 13,
   "metadata": {},
   "outputs": [],
   "source": [
    "def getAnalysis(score):\n",
    "    if score < 0:\n",
    "        return 'Negative'\n",
    "    elif score == 0:\n",
    "        return 'Neutral'\n",
    "    else:\n",
    "        return 'Positive'\n",
    "df2['Analysis'] = df2['Polarity'].apply(getAnalysis)"
   ]
  },
  {
   "cell_type": "code",
   "execution_count": 14,
   "metadata": {},
   "outputs": [],
   "source": [
    "df2.to_pickle('Data/news_final_df')"
   ]
  },
  {
   "cell_type": "code",
   "execution_count": 15,
   "metadata": {},
   "outputs": [
    {
     "output_type": "execute_result",
     "data": {
      "text/plain": [
       "                                                   News Company  Subjectivity  \\\n",
       "0     ftse russell puts indian secs on watch for pos...  Indian      1.000000   \n",
       "1                   markets follow asian peers gain 2 3   Asian      0.000000   \n",
       "2       hdfc securities users face stock quote mismatch    HDFC      0.000000   \n",
       "3       hdfc securities users face stock quote mismatch    HDFC      0.000000   \n",
       "4       hdfc securities users face stock quote mismatch    HDFC      0.000000   \n",
       "...                                                 ...     ...           ...   \n",
       "9866  axis bank board approves reclassification of u...    Axis      0.066667   \n",
       "9867  tarun bajaj given additional charge of revenue...   Bajaj      0.000000   \n",
       "9868  tarun bajaj given additional charge of revenue...   Bajaj      0.000000   \n",
       "9869  tarun bajaj given additional charge of revenue...   Bajaj      0.000000   \n",
       "9870  tarun bajaj given additional charge of revenue...   Bajaj      0.000000   \n",
       "\n",
       "      Polarity Analysis  \n",
       "0          0.0  Neutral  \n",
       "1          0.0  Neutral  \n",
       "2          0.0  Neutral  \n",
       "3          0.0  Neutral  \n",
       "4          0.0  Neutral  \n",
       "...        ...      ...  \n",
       "9866       0.0  Neutral  \n",
       "9867       0.0  Neutral  \n",
       "9868       0.0  Neutral  \n",
       "9869       0.0  Neutral  \n",
       "9870       0.0  Neutral  \n",
       "\n",
       "[9871 rows x 5 columns]"
      ],
      "text/html": "<div>\n<style scoped>\n    .dataframe tbody tr th:only-of-type {\n        vertical-align: middle;\n    }\n\n    .dataframe tbody tr th {\n        vertical-align: top;\n    }\n\n    .dataframe thead th {\n        text-align: right;\n    }\n</style>\n<table border=\"1\" class=\"dataframe\">\n  <thead>\n    <tr style=\"text-align: right;\">\n      <th></th>\n      <th>News</th>\n      <th>Company</th>\n      <th>Subjectivity</th>\n      <th>Polarity</th>\n      <th>Analysis</th>\n    </tr>\n  </thead>\n  <tbody>\n    <tr>\n      <th>0</th>\n      <td>ftse russell puts indian secs on watch for pos...</td>\n      <td>Indian</td>\n      <td>1.000000</td>\n      <td>0.0</td>\n      <td>Neutral</td>\n    </tr>\n    <tr>\n      <th>1</th>\n      <td>markets follow asian peers gain 2 3</td>\n      <td>Asian</td>\n      <td>0.000000</td>\n      <td>0.0</td>\n      <td>Neutral</td>\n    </tr>\n    <tr>\n      <th>2</th>\n      <td>hdfc securities users face stock quote mismatch</td>\n      <td>HDFC</td>\n      <td>0.000000</td>\n      <td>0.0</td>\n      <td>Neutral</td>\n    </tr>\n    <tr>\n      <th>3</th>\n      <td>hdfc securities users face stock quote mismatch</td>\n      <td>HDFC</td>\n      <td>0.000000</td>\n      <td>0.0</td>\n      <td>Neutral</td>\n    </tr>\n    <tr>\n      <th>4</th>\n      <td>hdfc securities users face stock quote mismatch</td>\n      <td>HDFC</td>\n      <td>0.000000</td>\n      <td>0.0</td>\n      <td>Neutral</td>\n    </tr>\n    <tr>\n      <th>...</th>\n      <td>...</td>\n      <td>...</td>\n      <td>...</td>\n      <td>...</td>\n      <td>...</td>\n    </tr>\n    <tr>\n      <th>9866</th>\n      <td>axis bank board approves reclassification of u...</td>\n      <td>Axis</td>\n      <td>0.066667</td>\n      <td>0.0</td>\n      <td>Neutral</td>\n    </tr>\n    <tr>\n      <th>9867</th>\n      <td>tarun bajaj given additional charge of revenue...</td>\n      <td>Bajaj</td>\n      <td>0.000000</td>\n      <td>0.0</td>\n      <td>Neutral</td>\n    </tr>\n    <tr>\n      <th>9868</th>\n      <td>tarun bajaj given additional charge of revenue...</td>\n      <td>Bajaj</td>\n      <td>0.000000</td>\n      <td>0.0</td>\n      <td>Neutral</td>\n    </tr>\n    <tr>\n      <th>9869</th>\n      <td>tarun bajaj given additional charge of revenue...</td>\n      <td>Bajaj</td>\n      <td>0.000000</td>\n      <td>0.0</td>\n      <td>Neutral</td>\n    </tr>\n    <tr>\n      <th>9870</th>\n      <td>tarun bajaj given additional charge of revenue...</td>\n      <td>Bajaj</td>\n      <td>0.000000</td>\n      <td>0.0</td>\n      <td>Neutral</td>\n    </tr>\n  </tbody>\n</table>\n<p>9871 rows × 5 columns</p>\n</div>"
     },
     "metadata": {},
     "execution_count": 15
    }
   ],
   "source": [
    "df2"
   ]
  },
  {
   "cell_type": "code",
   "execution_count": null,
   "metadata": {},
   "outputs": [],
   "source": []
  }
 ]
}